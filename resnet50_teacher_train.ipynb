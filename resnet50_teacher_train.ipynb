{
  "cells": [
    {
      "cell_type": "markdown",
      "metadata": {
        "id": "7oNBfSkWzVuj"
      },
      "source": [
        "Import the necessary dependencies"
      ]
    },
    {
      "cell_type": "code",
      "execution_count": 1,
      "metadata": {
        "id": "IHO0Np-_couO"
      },
      "outputs": [],
      "source": [
        "# !pip install torchmetrics\n",
        "# !pip install lightning"
      ]
    },
    {
      "cell_type": "code",
      "execution_count": 2,
      "metadata": {
        "id": "qThspA1gy7m5"
      },
      "outputs": [],
      "source": [
        "import torch\n",
        "import torchvision\n",
        "import torchmetrics\n",
        "import torchvision.transforms as transforms\n",
        "from torchvision.datasets import FashionMNIST\n",
        "from torch.utils.data import DataLoader, random_split\n",
        "from utils import Fashion_MNIST_ResNet\n",
        "import torch.nn as nn\n",
        "import torch.optim as optim\n",
        "import pytorch_lightning as pl\n",
        "from torchmetrics.classification import MulticlassAccuracy, MulticlassF1Score\n",
        "from pytorch_lightning.callbacks import ModelCheckpoint"
      ]
    },
    {
      "cell_type": "markdown",
      "metadata": {
        "id": "qyQwMDmnziZM"
      },
      "source": [
        "Check that we have PyTorch CUDA version installed and CUDA available"
      ]
    },
    {
      "cell_type": "code",
      "execution_count": 3,
      "metadata": {
        "colab": {
          "base_uri": "https://localhost:8080/"
        },
        "id": "5cp4OVwGzf7w",
        "outputId": "8d417c8f-ab16-4fd6-fa96-c23bcc8337b3"
      },
      "outputs": [
        {
          "name": "stderr",
          "output_type": "stream",
          "text": [
            "Seed set to 42\n"
          ]
        },
        {
          "name": "stdout",
          "output_type": "stream",
          "text": [
            "Torch version is:  2.1.0\n",
            "Is CUDA available -  True\n"
          ]
        },
        {
          "data": {
            "text/plain": [
              "42"
            ]
          },
          "execution_count": 3,
          "metadata": {},
          "output_type": "execute_result"
        }
      ],
      "source": [
        "print(\"Torch version is: \", torch.__version__) # Should see something like 2.1.0+cu118\n",
        "print(\"Is CUDA available - \", torch.cuda.is_available())\n",
        "# Just as a fail-safe, switch to CPU if CUDA not available, but training will be very slow\n",
        "device = torch.device(\"cuda\" if torch.cuda.is_available() else \"cpu\")\n",
        "pl.seed_everything(42)"
      ]
    },
    {
      "cell_type": "code",
      "execution_count": 4,
      "metadata": {
        "id": "YuDwLN0Iz7vN"
      },
      "outputs": [],
      "source": [
        "train_transform = transforms.Compose([transforms.RandomHorizontalFlip(),\n",
        "                                  transforms.RandomVerticalFlip(),\n",
        "                                  transforms.ToTensor(),\n",
        "                                  transforms.Normalize((72.9404/255,), (90.0212/255,))\n",
        "])\n",
        "\n",
        "test_transform = transforms.Compose([transforms.ToTensor(),\n",
        "                                  transforms.Normalize((72.9404/255,), (90.0212/255,))\n",
        "])"
      ]
    },
    {
      "cell_type": "code",
      "execution_count": 5,
      "metadata": {
        "colab": {
          "base_uri": "https://localhost:8080/"
        },
        "id": "WgmGX9mg0PW2",
        "outputId": "1b0edd89-5352-462b-986f-4aec90820638"
      },
      "outputs": [
        {
          "name": "stdout",
          "output_type": "stream",
          "text": [
            "tensor(72.9404)\n",
            "tensor(90.0212)\n",
            "{0: 'T-shirt/top', 1: 'Trouser', 2: 'Pullover', 3: 'Dress', 4: 'Coat', 5: 'Sandal', 6: 'Shirt', 7: 'Sneaker', 8: 'Bag', 9: 'Ankle boot'}\n"
          ]
        }
      ],
      "source": [
        "# Here we load the download the train dataset\n",
        "train_set = FashionMNIST('./data', download=True, train=True, transform=train_transform)\n",
        "print(train_set.data.float().mean())\n",
        "print(train_set.data.float().std())\n",
        "# Here we load the download the test dataset\n",
        "test_set = FashionMNIST('./data', download=True, train=False, transform=test_transform)\n",
        "# Dictionary of the classes in the dataset\n",
        "classes_dict = dict(enumerate(train_set.classes))\n",
        "print(classes_dict)"
      ]
    },
    {
      "cell_type": "markdown",
      "metadata": {
        "id": "94GWrAlG027H"
      },
      "source": [
        "Load the datasets as well as the loaders for processing batches"
      ]
    },
    {
      "cell_type": "code",
      "execution_count": 7,
      "metadata": {
        "id": "A46NZR5e4eKQ"
      },
      "outputs": [],
      "source": [
        "train_loader = DataLoader(train_set, batch_size=64, shuffle=True, num_workers=8)\n",
        "test_loader = DataLoader(test_set, batch_size=64, shuffle=False, num_workers=8)"
      ]
    },
    {
      "cell_type": "code",
      "execution_count": 8,
      "metadata": {
        "id": "K7vI2tp7fDSH"
      },
      "outputs": [
        {
          "name": "stderr",
          "output_type": "stream",
          "text": [
            "GPU available: True (cuda), used: True\n",
            "TPU available: False, using: 0 TPU cores\n",
            "IPU available: False, using: 0 IPUs\n",
            "HPU available: False, using: 0 HPUs\n",
            "/home/youxiang/anaconda3/envs/dl_proj/lib/python3.11/site-packages/pytorch_lightning/trainer/connectors/logger_connector/logger_connector.py:67: Starting from v1.9.0, `tensorboardX` has been removed as a dependency of the `pytorch_lightning` package, due to potential conflicts with other packages in the ML ecosystem. For this reason, `logger=True` will use `CSVLogger` as the default logger, unless the `tensorboard` or `tensorboardX` packages are found. Please `pip install lightning[extra]` or one of them to enable TensorBoard support by default\n",
            "You are using a CUDA device ('NVIDIA GeForce RTX 3080') that has Tensor Cores. To properly utilize them, you should set `torch.set_float32_matmul_precision('medium' | 'high')` which will trade-off precision for performance. For more details, read https://pytorch.org/docs/stable/generated/torch.set_float32_matmul_precision.html#torch.set_float32_matmul_precision\n",
            "LOCAL_RANK: 0 - CUDA_VISIBLE_DEVICES: [0]\n",
            "\n",
            "  | Name      | Type               | Params\n",
            "-------------------------------------------------\n",
            "0 | model     | ResNet             | 23.5 M\n",
            "1 | criterion | CrossEntropyLoss   | 0     \n",
            "2 | acc       | MulticlassAccuracy | 0     \n",
            "3 | f1        | MulticlassF1Score  | 0     \n",
            "-------------------------------------------------\n",
            "23.5 M    Trainable params\n",
            "0         Non-trainable params\n",
            "23.5 M    Total params\n",
            "94.089    Total estimated model params size (MB)\n"
          ]
        },
        {
          "name": "stdout",
          "output_type": "stream",
          "text": [
            "Sanity Checking DataLoader 0: 100%|██████████| 2/2 [00:00<00:00, 10.47it/s]\n",
            "\n",
            "Epoch: 0 - Metrics: \n",
            "Training loss: None, Validation loss:5.6418, Validation accuracy: 0.1176, Validation F1: 0.0375\n",
            "\n",
            "Epoch 0: 100%|██████████| 938/938 [00:15<00:00, 59.44it/s, v_num=0]        \n",
            "\n",
            "Epoch: 0 - Metrics: \n",
            "Training loss: 0.6239408850669861, Validation loss:0.5105, Validation accuracy: 0.8127, Validation F1: 0.8138\n",
            "\n",
            "Epoch 1: 100%|██████████| 938/938 [00:15<00:00, 59.34it/s, v_num=0, val_acc=0.813, val_f1=0.814, train_loss=0.624]\n",
            "\n",
            "Epoch: 1 - Metrics: \n",
            "Training loss: 0.4091157019138336, Validation loss:0.4356, Validation accuracy: 0.8438, Validation F1: 0.8429\n",
            "\n",
            "Epoch 2: 100%|██████████| 938/938 [00:16<00:00, 58.35it/s, v_num=0, val_acc=0.844, val_f1=0.843, train_loss=0.409]\n",
            "\n",
            "Epoch: 2 - Metrics: \n",
            "Training loss: 0.8715630173683167, Validation loss:2.0866, Validation accuracy: 0.7106, Validation F1: 0.6995\n",
            "\n",
            "Epoch 3: 100%|██████████| 938/938 [00:16<00:00, 57.43it/s, v_num=0, val_acc=0.711, val_f1=0.700, train_loss=0.872]\n",
            "\n",
            "Epoch: 3 - Metrics: \n",
            "Training loss: 0.15745173394680023, Validation loss:0.3906, Validation accuracy: 0.8587, Validation F1: 0.8578\n",
            "\n",
            "Epoch 4: 100%|██████████| 938/938 [00:15<00:00, 59.02it/s, v_num=0, val_acc=0.859, val_f1=0.858, train_loss=0.157]\n",
            "\n",
            "Epoch: 4 - Metrics: \n",
            "Training loss: 0.5876616835594177, Validation loss:0.3636, Validation accuracy: 0.8683, Validation F1: 0.8682\n",
            "\n",
            "Epoch 5: 100%|██████████| 938/938 [00:16<00:00, 56.17it/s, v_num=0, val_acc=0.868, val_f1=0.868, train_loss=0.588]\n",
            "\n",
            "Epoch: 5 - Metrics: \n",
            "Training loss: 0.26414844393730164, Validation loss:0.4045, Validation accuracy: 0.8486, Validation F1: 0.8493\n",
            "\n",
            "Epoch 6: 100%|██████████| 938/938 [00:17<00:00, 54.16it/s, v_num=0, val_acc=0.849, val_f1=0.849, train_loss=0.264]\n",
            "\n",
            "Epoch: 6 - Metrics: \n",
            "Training loss: 0.4987463355064392, Validation loss:0.4310, Validation accuracy: 0.8451, Validation F1: 0.8425\n",
            "\n",
            "Epoch 7: 100%|██████████| 938/938 [00:17<00:00, 54.41it/s, v_num=0, val_acc=0.845, val_f1=0.843, train_loss=0.499]\n",
            "\n",
            "Epoch: 7 - Metrics: \n",
            "Training loss: 0.2814232409000397, Validation loss:0.3522, Validation accuracy: 0.8684, Validation F1: 0.8701\n",
            "\n",
            "Epoch 8: 100%|██████████| 938/938 [00:15<00:00, 60.72it/s, v_num=0, val_acc=0.868, val_f1=0.870, train_loss=0.281]\n",
            "\n",
            "Epoch: 8 - Metrics: \n",
            "Training loss: 0.30965545773506165, Validation loss:0.3557, Validation accuracy: 0.8703, Validation F1: 0.8682\n",
            "\n",
            "Epoch 9: 100%|██████████| 938/938 [00:16<00:00, 56.46it/s, v_num=0, val_acc=0.870, val_f1=0.868, train_loss=0.310]\n",
            "\n",
            "Epoch: 9 - Metrics: \n",
            "Training loss: 0.33758097887039185, Validation loss:0.3153, Validation accuracy: 0.8841, Validation F1: 0.8830\n",
            "\n",
            "Epoch 10: 100%|██████████| 938/938 [00:16<00:00, 58.24it/s, v_num=0, val_acc=0.884, val_f1=0.883, train_loss=0.338]\n",
            "\n",
            "Epoch: 10 - Metrics: \n",
            "Training loss: 0.17582184076309204, Validation loss:0.3123, Validation accuracy: 0.8855, Validation F1: 0.8857\n",
            "\n",
            "Epoch 11: 100%|██████████| 938/938 [00:15<00:00, 59.60it/s, v_num=0, val_acc=0.886, val_f1=0.886, train_loss=0.176]\n",
            "\n",
            "Epoch: 11 - Metrics: \n",
            "Training loss: 0.11038811504840851, Validation loss:0.3321, Validation accuracy: 0.8796, Validation F1: 0.8791\n",
            "\n",
            "Epoch 12: 100%|██████████| 938/938 [00:15<00:00, 58.68it/s, v_num=0, val_acc=0.880, val_f1=0.879, train_loss=0.110]\n",
            "\n",
            "Epoch: 12 - Metrics: \n",
            "Training loss: 1.733513355255127, Validation loss:0.4812, Validation accuracy: 0.8336, Validation F1: 0.8331\n",
            "\n",
            "Epoch 13: 100%|██████████| 938/938 [00:15<00:00, 59.15it/s, v_num=0, val_acc=0.834, val_f1=0.833, train_loss=1.730]\n",
            "\n",
            "Epoch: 13 - Metrics: \n",
            "Training loss: 0.23610372841358185, Validation loss:0.3226, Validation accuracy: 0.8848, Validation F1: 0.8841\n",
            "\n",
            "Epoch 14: 100%|██████████| 938/938 [00:15<00:00, 60.49it/s, v_num=0, val_acc=0.885, val_f1=0.884, train_loss=0.236]\n",
            "\n",
            "Epoch: 14 - Metrics: \n",
            "Training loss: 0.1927766650915146, Validation loss:0.3010, Validation accuracy: 0.8901, Validation F1: 0.8874\n",
            "\n",
            "Epoch 15: 100%|██████████| 938/938 [00:16<00:00, 56.33it/s, v_num=0, val_acc=0.890, val_f1=0.887, train_loss=0.193]\n",
            "\n",
            "Epoch: 15 - Metrics: \n",
            "Training loss: 0.16951985657215118, Validation loss:0.2875, Validation accuracy: 0.8935, Validation F1: 0.8927\n",
            "\n",
            "Epoch 16: 100%|██████████| 938/938 [00:15<00:00, 61.58it/s, v_num=0, val_acc=0.893, val_f1=0.893, train_loss=0.170]\n",
            "\n",
            "Epoch: 16 - Metrics: \n",
            "Training loss: 0.48472240567207336, Validation loss:0.2855, Validation accuracy: 0.8929, Validation F1: 0.8914\n",
            "\n",
            "Epoch 17: 100%|██████████| 938/938 [00:15<00:00, 59.45it/s, v_num=0, val_acc=0.893, val_f1=0.891, train_loss=0.485]\n",
            "\n",
            "Epoch: 17 - Metrics: \n",
            "Training loss: 0.31842225790023804, Validation loss:0.2968, Validation accuracy: 0.8921, Validation F1: 0.8912\n",
            "\n",
            "Epoch 18: 100%|██████████| 938/938 [00:15<00:00, 58.69it/s, v_num=0, val_acc=0.892, val_f1=0.891, train_loss=0.318]\n",
            "\n",
            "Epoch: 18 - Metrics: \n",
            "Training loss: 0.1890549212694168, Validation loss:0.3461, Validation accuracy: 0.8779, Validation F1: 0.8766\n",
            "\n",
            "Epoch 19: 100%|██████████| 938/938 [00:16<00:00, 57.71it/s, v_num=0, val_acc=0.878, val_f1=0.877, train_loss=0.189]\n",
            "\n",
            "Epoch: 19 - Metrics: \n",
            "Training loss: 0.2815714180469513, Validation loss:0.3064, Validation accuracy: 0.8909, Validation F1: 0.8917\n",
            "\n",
            "Epoch 20: 100%|██████████| 938/938 [00:15<00:00, 59.36it/s, v_num=0, val_acc=0.891, val_f1=0.892, train_loss=0.282]\n",
            "\n",
            "Epoch: 20 - Metrics: \n",
            "Training loss: 0.16200606524944305, Validation loss:0.2679, Validation accuracy: 0.9038, Validation F1: 0.9031\n",
            "\n",
            "Epoch 21: 100%|██████████| 938/938 [00:15<00:00, 60.34it/s, v_num=0, val_acc=0.904, val_f1=0.903, train_loss=0.162]\n",
            "\n",
            "Epoch: 21 - Metrics: \n",
            "Training loss: 0.23784112930297852, Validation loss:0.2868, Validation accuracy: 0.8966, Validation F1: 0.8964\n",
            "\n",
            "Epoch 22: 100%|██████████| 938/938 [00:15<00:00, 58.99it/s, v_num=0, val_acc=0.897, val_f1=0.896, train_loss=0.238]\n",
            "\n",
            "Epoch: 22 - Metrics: \n",
            "Training loss: 0.1673525869846344, Validation loss:0.2889, Validation accuracy: 0.8944, Validation F1: 0.8946\n",
            "\n",
            "Epoch 23: 100%|██████████| 938/938 [00:15<00:00, 61.05it/s, v_num=0, val_acc=0.894, val_f1=0.895, train_loss=0.167]\n",
            "\n",
            "Epoch: 23 - Metrics: \n",
            "Training loss: 0.18709009885787964, Validation loss:0.2703, Validation accuracy: 0.9044, Validation F1: 0.9041\n",
            "\n",
            "Epoch 24: 100%|██████████| 938/938 [00:16<00:00, 57.83it/s, v_num=0, val_acc=0.904, val_f1=0.904, train_loss=0.187]\n",
            "\n",
            "Epoch: 24 - Metrics: \n",
            "Training loss: 0.37161752581596375, Validation loss:0.2894, Validation accuracy: 0.8975, Validation F1: 0.8975\n",
            "\n",
            "Epoch 25: 100%|██████████| 938/938 [00:15<00:00, 58.77it/s, v_num=0, val_acc=0.898, val_f1=0.897, train_loss=0.372]\n",
            "\n",
            "Epoch: 25 - Metrics: \n",
            "Training loss: 0.16932359337806702, Validation loss:0.2461, Validation accuracy: 0.9090, Validation F1: 0.9083\n",
            "\n",
            "Epoch 26: 100%|██████████| 938/938 [00:18<00:00, 50.46it/s, v_num=0, val_acc=0.909, val_f1=0.908, train_loss=0.169]\n",
            "\n",
            "Epoch: 26 - Metrics: \n",
            "Training loss: 0.07183444499969482, Validation loss:0.2414, Validation accuracy: 0.9128, Validation F1: 0.9126\n",
            "\n",
            "Epoch 27: 100%|██████████| 938/938 [00:15<00:00, 60.36it/s, v_num=0, val_acc=0.913, val_f1=0.913, train_loss=0.0718]\n",
            "\n",
            "Epoch: 27 - Metrics: \n",
            "Training loss: 0.20862390100955963, Validation loss:0.2514, Validation accuracy: 0.9109, Validation F1: 0.9099\n",
            "\n",
            "Epoch 28: 100%|██████████| 938/938 [00:15<00:00, 58.83it/s, v_num=0, val_acc=0.911, val_f1=0.910, train_loss=0.209] \n",
            "\n",
            "Epoch: 28 - Metrics: \n",
            "Training loss: 0.2737194895744324, Validation loss:0.2467, Validation accuracy: 0.9131, Validation F1: 0.9129\n",
            "\n",
            "Epoch 29: 100%|██████████| 938/938 [00:15<00:00, 59.95it/s, v_num=0, val_acc=0.913, val_f1=0.913, train_loss=0.274]\n",
            "\n",
            "Epoch: 29 - Metrics: \n",
            "Training loss: 0.13087201118469238, Validation loss:0.2654, Validation accuracy: 0.9050, Validation F1: 0.9047\n",
            "\n",
            "Epoch 29: 100%|██████████| 938/938 [00:16<00:00, 55.42it/s, v_num=0, val_acc=0.905, val_f1=0.905, train_loss=0.131]"
          ]
        },
        {
          "name": "stderr",
          "output_type": "stream",
          "text": [
            "`Trainer.fit` stopped: `max_epochs=30` reached.\n"
          ]
        },
        {
          "name": "stdout",
          "output_type": "stream",
          "text": [
            "Epoch 29: 100%|██████████| 938/938 [00:16<00:00, 55.42it/s, v_num=0, val_acc=0.905, val_f1=0.905, train_loss=0.131]\n"
          ]
        }
      ],
      "source": [
        "model = Fashion_MNIST_ResNet()\n",
        "checkpoint_callback = ModelCheckpoint(monitor=\"val_acc\", mode='max', filename='{epoch}-{val_loss:.3f}-{val_acc:.3f}', auto_insert_metric_name=True)\n",
        "trainer = pl.Trainer(accelerator='gpu', max_epochs=30, callbacks=[checkpoint_callback])\n",
        "trainer.fit(model, train_dataloaders=train_loader, val_dataloaders=test_loader)"
      ]
    }
  ],
  "metadata": {
    "accelerator": "GPU",
    "colab": {
      "gpuType": "T4",
      "provenance": []
    },
    "kernelspec": {
      "display_name": "Python 3",
      "name": "python3"
    },
    "language_info": {
      "codemirror_mode": {
        "name": "ipython",
        "version": 3
      },
      "file_extension": ".py",
      "mimetype": "text/x-python",
      "name": "python",
      "nbconvert_exporter": "python",
      "pygments_lexer": "ipython3",
      "version": "3.11.5"
    }
  },
  "nbformat": 4,
  "nbformat_minor": 0
}

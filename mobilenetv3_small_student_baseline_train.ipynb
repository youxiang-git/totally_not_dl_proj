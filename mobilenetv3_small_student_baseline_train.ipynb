{
  "cells": [
    {
      "cell_type": "markdown",
      "metadata": {
        "id": "7oNBfSkWzVuj"
      },
      "source": [
        "Import the necessary dependencies"
      ]
    },
    {
      "cell_type": "code",
      "execution_count": 1,
      "metadata": {
        "id": "IHO0Np-_couO"
      },
      "outputs": [],
      "source": [
        "# !pip install torchmetrics\n",
        "# !pip install lightning"
      ]
    },
    {
      "cell_type": "code",
      "execution_count": 2,
      "metadata": {
        "id": "qThspA1gy7m5"
      },
      "outputs": [],
      "source": [
        "import torch\n",
        "import torchvision\n",
        "import torchmetrics\n",
        "import torchvision.transforms as transforms\n",
        "from torchvision.datasets import FashionMNIST\n",
        "from torch.utils.data import DataLoader, random_split\n",
        "from utils import Fashion_MNIST_MobileNet\n",
        "import torch.nn as nn\n",
        "import torch.optim as optim\n",
        "import pytorch_lightning as pl\n",
        "from torchmetrics.classification import MulticlassAccuracy, MulticlassF1Score\n",
        "from pytorch_lightning.callbacks import ModelCheckpoint"
      ]
    },
    {
      "cell_type": "markdown",
      "metadata": {
        "id": "qyQwMDmnziZM"
      },
      "source": [
        "Check that we have PyTorch CUDA version installed and CUDA available"
      ]
    },
    {
      "cell_type": "code",
      "execution_count": 3,
      "metadata": {
        "colab": {
          "base_uri": "https://localhost:8080/"
        },
        "id": "5cp4OVwGzf7w",
        "outputId": "8d417c8f-ab16-4fd6-fa96-c23bcc8337b3"
      },
      "outputs": [
        {
          "name": "stderr",
          "output_type": "stream",
          "text": [
            "Seed set to 42\n"
          ]
        },
        {
          "name": "stdout",
          "output_type": "stream",
          "text": [
            "Torch version is:  2.1.0\n",
            "Is CUDA available -  True\n"
          ]
        },
        {
          "data": {
            "text/plain": [
              "42"
            ]
          },
          "execution_count": 3,
          "metadata": {},
          "output_type": "execute_result"
        }
      ],
      "source": [
        "print(\"Torch version is: \", torch.__version__) # Should see something like 2.1.0+cu118\n",
        "print(\"Is CUDA available - \", torch.cuda.is_available())\n",
        "# Just as a fail-safe, switch to CPU if CUDA not available, but training will be very slow\n",
        "device = torch.device(\"cuda\" if torch.cuda.is_available() else \"cpu\")\n",
        "pl.seed_everything(42)"
      ]
    },
    {
      "cell_type": "code",
      "execution_count": 4,
      "metadata": {
        "id": "YuDwLN0Iz7vN"
      },
      "outputs": [],
      "source": [
        "train_transform = transforms.Compose([transforms.RandomHorizontalFlip(),\n",
        "                                  transforms.RandomVerticalFlip(),\n",
        "                                  transforms.ToTensor(),\n",
        "                                  transforms.Normalize((72.9404/255,), (90.0212/255,))\n",
        "])\n",
        "\n",
        "test_transform = transforms.Compose([transforms.ToTensor(),\n",
        "                                  transforms.Normalize((72.9404/255,), (90.0212/255,))\n",
        "])"
      ]
    },
    {
      "cell_type": "code",
      "execution_count": 5,
      "metadata": {
        "colab": {
          "base_uri": "https://localhost:8080/"
        },
        "id": "WgmGX9mg0PW2",
        "outputId": "1b0edd89-5352-462b-986f-4aec90820638"
      },
      "outputs": [
        {
          "name": "stdout",
          "output_type": "stream",
          "text": [
            "tensor(72.9404)\n",
            "tensor(90.0212)\n",
            "{0: 'T-shirt/top', 1: 'Trouser', 2: 'Pullover', 3: 'Dress', 4: 'Coat', 5: 'Sandal', 6: 'Shirt', 7: 'Sneaker', 8: 'Bag', 9: 'Ankle boot'}\n"
          ]
        }
      ],
      "source": [
        "# Here we load the download the train dataset\n",
        "train_set = FashionMNIST('./data', download=True, train=True, transform=train_transform)\n",
        "print(train_set.data.float().mean())\n",
        "print(train_set.data.float().std())\n",
        "# Here we load the download the test dataset\n",
        "test_set = FashionMNIST('./data', download=True, train=False, transform=test_transform)\n",
        "# Dictionary of the classes in the dataset\n",
        "classes_dict = dict(enumerate(train_set.classes))\n",
        "print(classes_dict)"
      ]
    },
    {
      "cell_type": "markdown",
      "metadata": {
        "id": "94GWrAlG027H"
      },
      "source": [
        "Load the datasets as well as the loaders for processing batches"
      ]
    },
    {
      "cell_type": "code",
      "execution_count": 6,
      "metadata": {
        "id": "A46NZR5e4eKQ"
      },
      "outputs": [],
      "source": [
        "train_loader = DataLoader(train_set, batch_size=64, shuffle=True, num_workers=8)\n",
        "test_loader = DataLoader(test_set, batch_size=64, shuffle=False, num_workers=8)"
      ]
    },
    {
      "cell_type": "code",
      "execution_count": 7,
      "metadata": {
        "id": "K7vI2tp7fDSH"
      },
      "outputs": [
        {
          "name": "stderr",
          "output_type": "stream",
          "text": [
            "GPU available: True (cuda), used: True\n",
            "TPU available: False, using: 0 TPU cores\n",
            "IPU available: False, using: 0 IPUs\n",
            "HPU available: False, using: 0 HPUs\n",
            "/home/youxiang/anaconda3/envs/dl_proj/lib/python3.11/site-packages/pytorch_lightning/trainer/connectors/logger_connector/logger_connector.py:67: Starting from v1.9.0, `tensorboardX` has been removed as a dependency of the `pytorch_lightning` package, due to potential conflicts with other packages in the ML ecosystem. For this reason, `logger=True` will use `CSVLogger` as the default logger, unless the `tensorboard` or `tensorboardX` packages are found. Please `pip install lightning[extra]` or one of them to enable TensorBoard support by default\n",
            "You are using a CUDA device ('NVIDIA GeForce RTX 3080') that has Tensor Cores. To properly utilize them, you should set `torch.set_float32_matmul_precision('medium' | 'high')` which will trade-off precision for performance. For more details, read https://pytorch.org/docs/stable/generated/torch.set_float32_matmul_precision.html#torch.set_float32_matmul_precision\n",
            "LOCAL_RANK: 0 - CUDA_VISIBLE_DEVICES: [0]\n",
            "\n",
            "  | Name      | Type               | Params\n",
            "-------------------------------------------------\n",
            "0 | model     | MobileNetV3        | 1.5 M \n",
            "1 | criterion | CrossEntropyLoss   | 0     \n",
            "2 | acc       | MulticlassAccuracy | 0     \n",
            "3 | f1        | MulticlassF1Score  | 0     \n",
            "-------------------------------------------------\n",
            "1.5 M     Trainable params\n",
            "0         Non-trainable params\n",
            "1.5 M     Total params\n",
            "6.111     Total estimated model params size (MB)\n"
          ]
        },
        {
          "name": "stdout",
          "output_type": "stream",
          "text": [
            "Sanity Checking DataLoader 0: 100%|██████████| 2/2 [00:00<00:00, 10.90it/s]\n",
            "\n",
            "Epoch: 0 - Metrics: \n",
            "Training loss: None, Validation loss:2.3026, Validation accuracy: 0.1067, Validation F1: 0.0326\n",
            "\n",
            "Epoch 0: 100%|██████████| 938/938 [00:14<00:00, 63.55it/s, v_num=0]        \n",
            "\n",
            "Epoch: 0 - Metrics: \n",
            "Training loss: 0.8086847066879272, Validation loss:0.5587, Validation accuracy: 0.7979, Validation F1: 0.7791\n",
            "\n",
            "Epoch 1: 100%|██████████| 938/938 [00:13<00:00, 68.07it/s, v_num=0, val_acc=0.798, val_f1=0.779, train_loss=0.809]\n",
            "\n",
            "Epoch: 1 - Metrics: \n",
            "Training loss: 1.3413118124008179, Validation loss:0.4916, Validation accuracy: 0.8155, Validation F1: 0.8152\n",
            "\n",
            "Epoch 2: 100%|██████████| 938/938 [00:14<00:00, 65.97it/s, v_num=0, val_acc=0.816, val_f1=0.815, train_loss=1.340]\n",
            "\n",
            "Epoch: 2 - Metrics: \n",
            "Training loss: 0.3292103111743927, Validation loss:0.4385, Validation accuracy: 0.8447, Validation F1: 0.8434\n",
            "\n",
            "Epoch 3: 100%|██████████| 938/938 [00:16<00:00, 58.14it/s, v_num=0, val_acc=0.845, val_f1=0.843, train_loss=0.329]\n",
            "\n",
            "Epoch: 3 - Metrics: \n",
            "Training loss: 0.5084607601165771, Validation loss:0.4624, Validation accuracy: 0.8271, Validation F1: 0.8187\n",
            "\n",
            "Epoch 4: 100%|██████████| 938/938 [00:14<00:00, 63.81it/s, v_num=0, val_acc=0.827, val_f1=0.819, train_loss=0.508]\n",
            "\n",
            "Epoch: 4 - Metrics: \n",
            "Training loss: 0.46582135558128357, Validation loss:0.3895, Validation accuracy: 0.8577, Validation F1: 0.8565\n",
            "\n",
            "Epoch 5: 100%|██████████| 938/938 [00:12<00:00, 73.96it/s, v_num=0, val_acc=0.858, val_f1=0.857, train_loss=0.466]\n",
            "\n",
            "Epoch: 5 - Metrics: \n",
            "Training loss: 0.5302404761314392, Validation loss:0.4081, Validation accuracy: 0.8537, Validation F1: 0.8513\n",
            "\n",
            "Epoch 6: 100%|██████████| 938/938 [00:12<00:00, 74.21it/s, v_num=0, val_acc=0.854, val_f1=0.851, train_loss=0.530]\n",
            "\n",
            "Epoch: 6 - Metrics: \n",
            "Training loss: 0.4886932373046875, Validation loss:0.4374, Validation accuracy: 0.8409, Validation F1: 0.8400\n",
            "\n",
            "Epoch 7: 100%|██████████| 938/938 [00:16<00:00, 57.79it/s, v_num=0, val_acc=0.841, val_f1=0.840, train_loss=0.489]\n",
            "\n",
            "Epoch: 7 - Metrics: \n",
            "Training loss: 0.23740115761756897, Validation loss:0.3721, Validation accuracy: 0.8627, Validation F1: 0.8625\n",
            "\n",
            "Epoch 8: 100%|██████████| 938/938 [00:13<00:00, 70.00it/s, v_num=0, val_acc=0.863, val_f1=0.862, train_loss=0.237]\n",
            "\n",
            "Epoch: 8 - Metrics: \n",
            "Training loss: 0.4048311412334442, Validation loss:0.3773, Validation accuracy: 0.8586, Validation F1: 0.8590\n",
            "\n",
            "Epoch 9: 100%|██████████| 938/938 [00:14<00:00, 66.69it/s, v_num=0, val_acc=0.859, val_f1=0.859, train_loss=0.405]\n",
            "\n",
            "Epoch: 9 - Metrics: \n",
            "Training loss: 0.813766598701477, Validation loss:0.4526, Validation accuracy: 0.8414, Validation F1: 0.8342\n",
            "\n",
            "Epoch 10: 100%|██████████| 938/938 [00:12<00:00, 73.36it/s, v_num=0, val_acc=0.841, val_f1=0.834, train_loss=0.814]\n",
            "\n",
            "Epoch: 10 - Metrics: \n",
            "Training loss: 0.19268742203712463, Validation loss:0.3755, Validation accuracy: 0.8644, Validation F1: 0.8635\n",
            "\n",
            "Epoch 11: 100%|██████████| 938/938 [00:14<00:00, 66.16it/s, v_num=0, val_acc=0.864, val_f1=0.864, train_loss=0.193]\n",
            "\n",
            "Epoch: 11 - Metrics: \n",
            "Training loss: 0.47652456164360046, Validation loss:0.3417, Validation accuracy: 0.8745, Validation F1: 0.8759\n",
            "\n",
            "Epoch 12: 100%|██████████| 938/938 [00:13<00:00, 68.85it/s, v_num=0, val_acc=0.874, val_f1=0.876, train_loss=0.477]\n",
            "\n",
            "Epoch: 12 - Metrics: \n",
            "Training loss: 0.4673302471637726, Validation loss:0.4069, Validation accuracy: 0.8562, Validation F1: 0.8563\n",
            "\n",
            "Epoch 13: 100%|██████████| 938/938 [00:15<00:00, 58.76it/s, v_num=0, val_acc=0.856, val_f1=0.856, train_loss=0.467]\n",
            "\n",
            "Epoch: 13 - Metrics: \n",
            "Training loss: 0.282548725605011, Validation loss:0.3354, Validation accuracy: 0.8756, Validation F1: 0.8734\n",
            "\n",
            "Epoch 14: 100%|██████████| 938/938 [00:13<00:00, 70.64it/s, v_num=0, val_acc=0.876, val_f1=0.873, train_loss=0.283]\n",
            "\n",
            "Epoch: 14 - Metrics: \n",
            "Training loss: 0.3560017943382263, Validation loss:0.3756, Validation accuracy: 0.8596, Validation F1: 0.8600\n",
            "\n",
            "Epoch 15: 100%|██████████| 938/938 [00:13<00:00, 69.53it/s, v_num=0, val_acc=0.860, val_f1=0.860, train_loss=0.356]\n",
            "\n",
            "Epoch: 15 - Metrics: \n",
            "Training loss: 0.4875034987926483, Validation loss:0.3532, Validation accuracy: 0.8743, Validation F1: 0.8717\n",
            "\n",
            "Epoch 16: 100%|██████████| 938/938 [00:14<00:00, 65.86it/s, v_num=0, val_acc=0.874, val_f1=0.872, train_loss=0.488]\n",
            "\n",
            "Epoch: 16 - Metrics: \n",
            "Training loss: 0.4012710154056549, Validation loss:0.3535, Validation accuracy: 0.8709, Validation F1: 0.8687\n",
            "\n",
            "Epoch 17: 100%|██████████| 938/938 [00:14<00:00, 66.52it/s, v_num=0, val_acc=0.871, val_f1=0.869, train_loss=0.401]\n",
            "\n",
            "Epoch: 17 - Metrics: \n",
            "Training loss: 0.4286107122898102, Validation loss:0.3722, Validation accuracy: 0.8569, Validation F1: 0.8525\n",
            "\n",
            "Epoch 18: 100%|██████████| 938/938 [00:14<00:00, 64.03it/s, v_num=0, val_acc=0.857, val_f1=0.852, train_loss=0.429]\n",
            "\n",
            "Epoch: 18 - Metrics: \n",
            "Training loss: 0.26576557755470276, Validation loss:0.3144, Validation accuracy: 0.8861, Validation F1: 0.8849\n",
            "\n",
            "Epoch 19: 100%|██████████| 938/938 [00:13<00:00, 68.84it/s, v_num=0, val_acc=0.886, val_f1=0.885, train_loss=0.266]\n",
            "\n",
            "Epoch: 19 - Metrics: \n",
            "Training loss: 0.2718074917793274, Validation loss:0.3325, Validation accuracy: 0.8763, Validation F1: 0.8754\n",
            "\n",
            "Epoch 20: 100%|██████████| 938/938 [00:13<00:00, 70.40it/s, v_num=0, val_acc=0.876, val_f1=0.875, train_loss=0.272]\n",
            "\n",
            "Epoch: 20 - Metrics: \n",
            "Training loss: 0.337643563747406, Validation loss:0.3818, Validation accuracy: 0.8597, Validation F1: 0.8531\n",
            "\n",
            "Epoch 21: 100%|██████████| 938/938 [00:14<00:00, 66.51it/s, v_num=0, val_acc=0.860, val_f1=0.853, train_loss=0.338]\n",
            "\n",
            "Epoch: 21 - Metrics: \n",
            "Training loss: 0.29590147733688354, Validation loss:0.3018, Validation accuracy: 0.8903, Validation F1: 0.8911\n",
            "\n",
            "Epoch 22: 100%|██████████| 938/938 [00:13<00:00, 69.56it/s, v_num=0, val_acc=0.890, val_f1=0.891, train_loss=0.296]\n",
            "\n",
            "Epoch: 22 - Metrics: \n",
            "Training loss: 0.12480314821004868, Validation loss:0.3420, Validation accuracy: 0.8777, Validation F1: 0.8788\n",
            "\n",
            "Epoch 23: 100%|██████████| 938/938 [00:12<00:00, 73.84it/s, v_num=0, val_acc=0.878, val_f1=0.879, train_loss=0.125]\n",
            "\n",
            "Epoch: 23 - Metrics: \n",
            "Training loss: 0.16411347687244415, Validation loss:0.3026, Validation accuracy: 0.8916, Validation F1: 0.8910\n",
            "\n",
            "Epoch 24: 100%|██████████| 938/938 [00:13<00:00, 68.26it/s, v_num=0, val_acc=0.892, val_f1=0.891, train_loss=0.164]\n",
            "\n",
            "Epoch: 24 - Metrics: \n",
            "Training loss: 0.1898943930864334, Validation loss:0.3143, Validation accuracy: 0.8857, Validation F1: 0.8846\n",
            "\n",
            "Epoch 25: 100%|██████████| 938/938 [00:16<00:00, 56.74it/s, v_num=0, val_acc=0.886, val_f1=0.885, train_loss=0.190]\n",
            "\n",
            "Epoch: 25 - Metrics: \n",
            "Training loss: 0.4510442614555359, Validation loss:0.3905, Validation accuracy: 0.8617, Validation F1: 0.8567\n",
            "\n",
            "Epoch 26: 100%|██████████| 938/938 [00:14<00:00, 63.23it/s, v_num=0, val_acc=0.862, val_f1=0.857, train_loss=0.451]\n",
            "\n",
            "Epoch: 26 - Metrics: \n",
            "Training loss: 0.48938512802124023, Validation loss:0.3259, Validation accuracy: 0.8799, Validation F1: 0.8787\n",
            "\n",
            "Epoch 27: 100%|██████████| 938/938 [00:14<00:00, 65.37it/s, v_num=0, val_acc=0.880, val_f1=0.879, train_loss=0.489]\n",
            "\n",
            "Epoch: 27 - Metrics: \n",
            "Training loss: 0.3840367794036865, Validation loss:0.2911, Validation accuracy: 0.8885, Validation F1: 0.8867\n",
            "\n",
            "Epoch 28: 100%|██████████| 938/938 [00:14<00:00, 65.29it/s, v_num=0, val_acc=0.889, val_f1=0.887, train_loss=0.384]\n",
            "\n",
            "Epoch: 28 - Metrics: \n",
            "Training loss: 0.23820216953754425, Validation loss:0.3141, Validation accuracy: 0.8863, Validation F1: 0.8857\n",
            "\n",
            "Epoch 29: 100%|██████████| 938/938 [00:13<00:00, 67.18it/s, v_num=0, val_acc=0.886, val_f1=0.886, train_loss=0.238]\n",
            "\n",
            "Epoch: 29 - Metrics: \n",
            "Training loss: 0.4935142397880554, Validation loss:0.2895, Validation accuracy: 0.8944, Validation F1: 0.8943\n",
            "\n",
            "Epoch 29: 100%|██████████| 938/938 [00:15<00:00, 62.35it/s, v_num=0, val_acc=0.894, val_f1=0.894, train_loss=0.494]"
          ]
        },
        {
          "name": "stderr",
          "output_type": "stream",
          "text": [
            "`Trainer.fit` stopped: `max_epochs=30` reached.\n"
          ]
        },
        {
          "name": "stdout",
          "output_type": "stream",
          "text": [
            "Epoch 29: 100%|██████████| 938/938 [00:15<00:00, 62.15it/s, v_num=0, val_acc=0.894, val_f1=0.894, train_loss=0.494]\n"
          ]
        }
      ],
      "source": [
        "model = Fashion_MNIST_MobileNet()\n",
        "checkpoint_callback = ModelCheckpoint(monitor=\"val_acc\", mode='max', filename='{epoch}-{val_loss:.3f}-{val_acc:.3f}', auto_insert_metric_name=True)\n",
        "trainer = pl.Trainer(accelerator='gpu', max_epochs=30, callbacks=[checkpoint_callback])\n",
        "trainer.fit(model, train_dataloaders=train_loader, val_dataloaders=test_loader)"
      ]
    }
  ],
  "metadata": {
    "accelerator": "GPU",
    "colab": {
      "gpuType": "T4",
      "provenance": []
    },
    "kernelspec": {
      "display_name": "Python 3",
      "name": "python3"
    },
    "language_info": {
      "codemirror_mode": {
        "name": "ipython",
        "version": 3
      },
      "file_extension": ".py",
      "mimetype": "text/x-python",
      "name": "python",
      "nbconvert_exporter": "python",
      "pygments_lexer": "ipython3",
      "version": "3.11.5"
    }
  },
  "nbformat": 4,
  "nbformat_minor": 0
}
